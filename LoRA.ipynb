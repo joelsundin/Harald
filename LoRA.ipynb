{
 "cells": [
  {
   "cell_type": "code",
   "execution_count": 1,
   "id": "dbc9806e-17ec-437d-8603-0584be6b22e4",
   "metadata": {},
   "outputs": [
    {
     "name": "stderr",
     "output_type": "stream",
     "text": [
      "/home/petter/Projekt/LLM/venv/lib/python3.12/site-packages/tqdm/auto.py:21: TqdmWarning: IProgress not found. Please update jupyter and ipywidgets. See https://ipywidgets.readthedocs.io/en/stable/user_install.html\n",
      "  from .autonotebook import tqdm as notebook_tqdm\n",
      "`torch_dtype` is deprecated! Use `dtype` instead!\n",
      "The `load_in_4bit` and `load_in_8bit` arguments are deprecated and will be removed in the future versions. Please, pass a `BitsAndBytesConfig` object in `quantization_config` argument instead.\n",
      "Loading checkpoint shards: 100%|████████████████████████████████████████████████████████████████████████████████████████████████████████████████████████████████████████████| 4/4 [00:07<00:00,  1.91s/it]\n"
     ]
    },
    {
     "name": "stdout",
     "output_type": "stream",
     "text": [
      "trainable params: 3,407,872 || all params: 8,033,669,120 || trainable%: 0.0424\n"
     ]
    }
   ],
   "source": [
    "from transformers import AutoTokenizer, AutoModelForCausalLM, TrainingArguments, Trainer, DataCollatorForSeq2Seq\n",
    "from datasets import load_dataset\n",
    "from peft import LoraConfig, get_peft_model\n",
    "\n",
    "# --- 1️⃣ Load tokenizer and model ---\n",
    "model_name = \"AI-Sweden-Models/Llama-3-8B-instruct\"\n",
    "\n",
    "tokenizer = AutoTokenizer.from_pretrained(model_name)\n",
    "if tokenizer.pad_token is None:\n",
    "    tokenizer.pad_token = tokenizer.eos_token\n",
    "\n",
    "model = AutoModelForCausalLM.from_pretrained(\n",
    "    model_name,\n",
    "    device_map=\"auto\",\n",
    "    torch_dtype=\"auto\",\n",
    "    load_in_4bit=True,\n",
    ")\n",
    "\n",
    "# --- 2️⃣ LoRA setup ---\n",
    "lora_config = LoraConfig(\n",
    "    r=8,\n",
    "    lora_alpha=16,\n",
    "    target_modules=[\"q_proj\", \"v_proj\"],\n",
    "    lora_dropout=0.05,\n",
    "    bias=\"none\",\n",
    "    task_type=\"CAUSAL_LM\",\n",
    ")\n",
    "model = get_peft_model(model, lora_config)\n",
    "model.print_trainable_parameters()"
   ]
  },
  {
   "cell_type": "code",
   "execution_count": 2,
   "id": "55a07b05-7e3f-4904-9b8e-aad26515d637",
   "metadata": {},
   "outputs": [
    {
     "name": "stderr",
     "output_type": "stream",
     "text": [
      "Map: 100%|███████████████████████████████████████████████████████████████████████████████████████████████████████████████████████████████████████████████████████████| 1/1 [00:01<00:00,  1.76s/ examples]\n",
      "/tmp/ipykernel_124231/715499553.py:93: FutureWarning: `tokenizer` is deprecated and will be removed in version 5.0.0 for `Trainer.__init__`. Use `processing_class` instead.\n",
      "  trainer = Trainer(\n",
      "The tokenizer has new PAD/BOS/EOS tokens that differ from the model config and generation config. The model config and generation config were aligned accordingly, being updated with the tokenizer's values. Updated tokens: {'eos_token_id': 128009, 'pad_token_id': 128009}.\n"
     ]
    },
    {
     "name": "stdout",
     "output_type": "stream",
     "text": [
      "Trainable tokens contributing to loss: 278/512\n"
     ]
    },
    {
     "data": {
      "text/html": [
       "\n",
       "    <div>\n",
       "      \n",
       "      <progress value='3' max='3' style='width:300px; height:20px; vertical-align: middle;'></progress>\n",
       "      [3/3 00:03, Epoch 3/3]\n",
       "    </div>\n",
       "    <table border=\"1\" class=\"dataframe\">\n",
       "  <thead>\n",
       " <tr style=\"text-align: left;\">\n",
       "      <th>Step</th>\n",
       "      <th>Training Loss</th>\n",
       "    </tr>\n",
       "  </thead>\n",
       "  <tbody>\n",
       "  </tbody>\n",
       "</table><p>"
      ],
      "text/plain": [
       "<IPython.core.display.HTML object>"
      ]
     },
     "metadata": {},
     "output_type": "display_data"
    },
    {
     "data": {
      "text/plain": [
       "TrainOutput(global_step=3, training_loss=1.0672237078348796, metrics={'train_runtime': 3.8191, 'train_samples_per_second': 0.786, 'train_steps_per_second': 0.786, 'total_flos': 69196792725504.0, 'train_loss': 1.0672237078348796, 'epoch': 3.0})"
      ]
     },
     "execution_count": 2,
     "metadata": {},
     "output_type": "execute_result"
    }
   ],
   "source": [
    "# --- 3️⃣ Load dataset ---\n",
    "dataset = load_dataset(\"json\", data_files=\"swe-prompts.json\")[\"train\"]\n",
    "\n",
    "# --- 4️⃣ Fixed preprocessing function ---\n",
    "def preprocess(example, max_length=512):\n",
    "    \"\"\"\n",
    "    Properly handles multi-turn conversations and masks only system/user tokens.\n",
    "    \"\"\"\n",
    "    # Get the full conversation\n",
    "    full_text = tokenizer.apply_chat_template(\n",
    "        example[\"messages\"],\n",
    "        tokenize=False,\n",
    "        add_generation_prompt=False\n",
    "    )\n",
    "    \n",
    "    # Tokenize the full conversation\n",
    "    tokenized = tokenizer(\n",
    "        full_text,\n",
    "        truncation=True,\n",
    "        padding=\"max_length\",\n",
    "        max_length=max_length,\n",
    "        return_tensors=None\n",
    "    )\n",
    "    \n",
    "    # Initialize labels as a copy of input_ids\n",
    "    labels = tokenized[\"input_ids\"].copy()\n",
    "    \n",
    "    # Method 1: Mask everything initially, then unmask assistant responses\n",
    "    labels = [-100] * len(labels)  # Mask everything first\n",
    "    \n",
    "    # Build conversation incrementally to find assistant response positions\n",
    "    current_pos = 0\n",
    "    \n",
    "    for i, msg in enumerate(example[\"messages\"]):\n",
    "        if msg[\"role\"] == \"assistant\":\n",
    "            # Find where this assistant message starts and ends\n",
    "            # Build conversation up to this point (without the assistant message)\n",
    "            conv_before = example[\"messages\"][:i]\n",
    "            if conv_before:\n",
    "                text_before = tokenizer.apply_chat_template(\n",
    "                    conv_before, \n",
    "                    tokenize=False, \n",
    "                    add_generation_prompt=True\n",
    "                )\n",
    "                tokens_before = tokenizer(text_before, add_special_tokens=False)[\"input_ids\"]\n",
    "                start_pos = len(tokens_before)\n",
    "            else:\n",
    "                start_pos = 0\n",
    "            \n",
    "            # Build conversation including this assistant message\n",
    "            conv_including = example[\"messages\"][:i+1]\n",
    "            text_including = tokenizer.apply_chat_template(\n",
    "                conv_including, \n",
    "                tokenize=False, \n",
    "                add_generation_prompt=False\n",
    "            )\n",
    "            tokens_including = tokenizer(text_including, add_special_tokens=False)[\"input_ids\"]\n",
    "            end_pos = len(tokens_including)\n",
    "            \n",
    "            # Unmask the assistant tokens (but keep some special tokens masked)\n",
    "            if start_pos < len(labels) and end_pos <= len(labels):\n",
    "                for j in range(start_pos, min(end_pos, len(labels))):\n",
    "                    if j < len(tokenized[\"input_ids\"]):\n",
    "                        labels[j] = tokenized[\"input_ids\"][j]\n",
    "    \n",
    "    tokenized[\"labels\"] = labels\n",
    "    \n",
    "    # Count trainable tokens\n",
    "    num_trainable = len([l for l in labels if l != -100])\n",
    "    print(f\"Trainable tokens contributing to loss: {num_trainable}/{len(labels)}\")\n",
    "    \n",
    "    return tokenized\n",
    "\n",
    "tokenized_dataset = dataset.map(preprocess, remove_columns=dataset.column_names, batched=False)\n",
    "\n",
    "# --- 5️⃣ Data collator ---\n",
    "data_collator = DataCollatorForSeq2Seq(tokenizer, padding=True)\n",
    "\n",
    "# --- 6️⃣ Training arguments ---\n",
    "training_args = TrainingArguments(\n",
    "    output_dir=\"/media/petter/Data/lora-chat-model\",\n",
    "    per_device_train_batch_size=1,\n",
    "    gradient_accumulation_steps=8,\n",
    "    num_train_epochs=3,\n",
    "    learning_rate=2e-4,\n",
    "    fp16=True,\n",
    "    logging_steps=10,\n",
    "    save_strategy=\"epoch\",\n",
    "    dataloader_drop_last=True,  # Helps with consistency\n",
    ")\n",
    "\n",
    "# --- 7️⃣ Trainer setup ---\n",
    "trainer = Trainer(\n",
    "    model=model,\n",
    "    args=training_args,\n",
    "    train_dataset=tokenized_dataset,\n",
    "    data_collator=data_collator,\n",
    "    tokenizer=tokenizer\n",
    ")\n",
    "\n",
    "# --- 8️⃣ Start training ---\n",
    "trainer.train()"
   ]
  },
  {
   "cell_type": "code",
   "execution_count": null,
   "id": "5da5d11a-ea00-41c1-b079-bc0af4745772",
   "metadata": {},
   "outputs": [],
   "source": []
  }
 ],
 "metadata": {
  "kernelspec": {
   "display_name": "Python 3 (ipykernel)",
   "language": "python",
   "name": "python3"
  },
  "language_info": {
   "codemirror_mode": {
    "name": "ipython",
    "version": 3
   },
   "file_extension": ".py",
   "mimetype": "text/x-python",
   "name": "python",
   "nbconvert_exporter": "python",
   "pygments_lexer": "ipython3",
   "version": "3.12.3"
  }
 },
 "nbformat": 4,
 "nbformat_minor": 5
}
